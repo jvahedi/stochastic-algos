{
 "cells": [
  {
   "cell_type": "code",
   "execution_count": 7,
   "metadata": {
    "ExecuteTime": {
     "end_time": "2021-03-09T23:42:45.534922Z",
     "start_time": "2021-03-09T23:42:45.511675Z"
    }
   },
   "outputs": [],
   "source": [
    "import numpy as np\n",
    "import scipy.stats as sy\n",
    "import matplotlib.pyplot as plt\n",
    "%matplotlib inline"
   ]
  },
  {
   "cell_type": "code",
   "execution_count": 8,
   "metadata": {
    "ExecuteTime": {
     "end_time": "2021-03-09T23:42:46.263170Z",
     "start_time": "2021-03-09T23:42:46.255853Z"
    }
   },
   "outputs": [],
   "source": [
    "#intialization\n",
    "size = 10**7\n",
    "X = np.empty(size)\n",
    "x = 1.0\n",
    "sig = 2.0"
   ]
  },
  {
   "cell_type": "code",
   "execution_count": 9,
   "metadata": {
    "ExecuteTime": {
     "end_time": "2021-03-10T01:35:36.787452Z",
     "start_time": "2021-03-09T23:43:21.731038Z"
    }
   },
   "outputs": [],
   "source": [
    "for i in range(size):\n",
    "    #iteration\n",
    "    #-Step 1 (Proposal)\n",
    "    prop = np.random.normal(x, sig)\n",
    "    #-Step 2 (Acceptance Probabilty)\n",
    "    a = (sy.norm.pdf(prop,0,1)*sy.norm.pdf(x,prop,sig))/(sy.norm.pdf(x,0,1)*sy.norm.pdf(prop,x,sig))\n",
    "    a = np.amin([1,a])\n",
    "    #-Step 3 (Decision)\n",
    "    r = np.random.rand()\n",
    "    if r<a:\n",
    "        x = prop\n",
    "    #store value\n",
    "    X[i] = x"
   ]
  },
  {
   "cell_type": "code",
   "execution_count": 10,
   "metadata": {
    "ExecuteTime": {
     "end_time": "2021-03-10T01:35:42.189207Z",
     "start_time": "2021-03-10T01:35:36.902351Z"
    }
   },
   "outputs": [
    {
     "data": {
      "image/png": "[encoded data removed]",
      "text/plain": [
       "<Figure size 432x288 with 1 Axes>"
      ]
     },
     "metadata": {
      "needs_background": "light"
     },
     "output_type": "display_data"
    }
   ],
   "source": [
    "plt.hist(X[int(size/2):],density =True, bins = int(np.sqrt(size/2)))\n",
    "plt.show()"
   ]
  },
  {
   "cell_type": "code",
   "execution_count": null,
   "metadata": {},
   "outputs": [],
   "source": []
  },
  {
   "cell_type": "code",
   "execution_count": null,
   "metadata": {},
   "outputs": [],
   "source": []
  }
 ],
 "metadata": {
  "kernelspec": {
   "display_name": "Python 3",
   "language": "python",
   "name": "python3"
  },
  "language_info": {
   "codemirror_mode": {
    "name": "ipython",
    "version": 3
   },
   "file_extension": ".py",
   "mimetype": "text/x-python",
   "name": "python",
   "nbconvert_exporter": "python",
   "pygments_lexer": "ipython3",
   "version": "3.8.3"
  },
  "varInspector": {
   "cols": {
    "lenName": 16,
    "lenType": 16,
    "lenVar": 40
   },
   "kernels_config": {
    "python": {
     "delete_cmd_postfix": "",
     "delete_cmd_prefix": "del ",
     "library": "var_list.py",
     "varRefreshCmd": "print(var_dic_list())"
    },
    "r": {
     "delete_cmd_postfix": ") ",
     "delete_cmd_prefix": "rm(",
     "library": "var_list.r",
     "varRefreshCmd": "cat(var_dic_list()) "
    }
   },
   "types_to_exclude": [
    "module",
    "function",
    "builtin_function_or_method",
    "instance",
    "_Feature"
   ],
   "window_display": false
  }
 },
 "nbformat": 4,
 "nbformat_minor": 4
}
