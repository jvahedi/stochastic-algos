{
 "cells": [
  {
   "cell_type": "code",
   "execution_count": 2,
   "metadata": {
    "ExecuteTime": {
     "end_time": "2021-03-15T00:13:57.417874Z",
     "start_time": "2021-03-15T00:13:55.682512Z"
    }
   },
   "outputs": [],
   "source": [
    "import numpy as np\n",
    "import scipy.stats as sy\n",
    "import matplotlib.pyplot as plt\n",
    "%matplotlib inline"
   ]
  },
  {
   "cell_type": "code",
   "execution_count": 3,
   "metadata": {
    "ExecuteTime": {
     "end_time": "2021-03-15T00:13:57.454354Z",
     "start_time": "2021-03-15T00:13:57.446071Z"
    }
   },
   "outputs": [],
   "source": [
    "#intialization\n",
    "size = 10**7\n",
    "X = np.empty(size)\n",
    "x = .5\n",
    "sig = .01"
   ]
  },
  {
   "cell_type": "code",
   "execution_count": 4,
   "metadata": {
    "ExecuteTime": {
     "end_time": "2021-03-15T00:13:57.527216Z",
     "start_time": "2021-03-15T00:13:57.488974Z"
    }
   },
   "outputs": [],
   "source": [
    "def s(u):\n",
    "    return np.(e)"
   ]
  },
  {
   "cell_type": "code",
   "execution_count": null,
   "metadata": {
    "ExecuteTime": {
     "start_time": "2021-03-15T03:48:20.824Z"
    }
   },
   "outputs": [],
   "source": [
    "#intialization\n",
    "size = 10**7\n",
    "X = np.empty(size)\n",
    "x = .5\n",
    "sig = .1\n",
    "h=5.93\n",
    "\n",
    "def s(u):\n",
    "    return sy.norm.pdf(np.exp(u)-h)*sy.norm.pdf(u-2)\n",
    "\n",
    "for i in range(size):\n",
    "    #iteration\n",
    "    #-Step 1 (Proposal)\n",
    "    prop = np.random.normal(x,sig)\n",
    "    #-Step 2 (Acceptance Probabilty)\n",
    "    a = (s(prop))/(s(x))\n",
    "    a = np.amin([1,a])\n",
    "    #-Step 3 (Decision)\n",
    "    r = np.random.rand()\n",
    "    if r<a:\n",
    "        x = prop\n",
    "    #store value\n",
    "    X[i] = x"
   ]
  },
  {
   "cell_type": "code",
   "execution_count": null,
   "metadata": {
    "ExecuteTime": {
     "start_time": "2021-03-15T03:48:25.983Z"
    },
    "scrolled": true
   },
   "outputs": [],
   "source": [
    "plt.hist(X[int(size/2):],density =True, bins = int(np.sqrt(size/3)))\n",
    "plt.show()"
   ]
  },
  {
   "cell_type": "code",
   "execution_count": null,
   "metadata": {
    "ExecuteTime": {
     "start_time": "2021-03-15T03:48:28.374Z"
    }
   },
   "outputs": [],
   "source": [
    "X\n"
   ]
  },
  {
   "cell_type": "code",
   "execution_count": null,
   "metadata": {
    "ExecuteTime": {
     "start_time": "2021-03-15T03:48:35.830Z"
    }
   },
   "outputs": [],
   "source": [
    "Z = np.linspace(0,1,1000)\n",
    "plt.plot(Z,s(Z))"
   ]
  },
  {
   "cell_type": "code",
   "execution_count": null,
   "metadata": {},
   "outputs": [],
   "source": []
  }
 ],
 "metadata": {
  "kernelspec": {
   "display_name": "Python 3",
   "language": "python",
   "name": "python3"
  },
  "language_info": {
   "codemirror_mode": {
    "name": "ipython",
    "version": 3
   },
   "file_extension": ".py",
   "mimetype": "text/x-python",
   "name": "python",
   "nbconvert_exporter": "python",
   "pygments_lexer": "ipython3",
   "version": "3.8.3"
  },
  "varInspector": {
   "cols": {
    "lenName": 16,
    "lenType": 16,
    "lenVar": 40
   },
   "kernels_config": {
    "python": {
     "delete_cmd_postfix": "",
     "delete_cmd_prefix": "del ",
     "library": "var_list.py",
     "varRefreshCmd": "print(var_dic_list())"
    },
    "r": {
     "delete_cmd_postfix": ") ",
     "delete_cmd_prefix": "rm(",
     "library": "var_list.r",
     "varRefreshCmd": "cat(var_dic_list()) "
    }
   },
   "types_to_exclude": [
    "module",
    "function",
    "builtin_function_or_method",
    "instance",
    "_Feature"
   ],
   "window_display": false
  }
 },
 "nbformat": 4,
 "nbformat_minor": 4
}
