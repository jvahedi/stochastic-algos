{
 "cells": [
  {
   "cell_type": "code",
   "execution_count": 1,
   "metadata": {
    "ExecuteTime": {
     "end_time": "2021-03-10T01:52:12.270119Z",
     "start_time": "2021-03-10T01:52:10.565300Z"
    }
   },
   "outputs": [],
   "source": [
    "import numpy as np\n",
    "import scipy.stats as sy\n",
    "import matplotlib.pyplot as plt\n",
    "%matplotlib inline"
   ]
  },
  {
   "cell_type": "code",
   "execution_count": 2,
   "metadata": {
    "ExecuteTime": {
     "end_time": "2021-03-10T01:52:12.349131Z",
     "start_time": "2021-03-10T01:52:12.336128Z"
    }
   },
   "outputs": [],
   "source": [
    "#intialization\n",
    "size = 10**7\n",
    "X = np.empty(size)\n",
    "x = 1.0\n",
    "sig = 4.0"
   ]
  },
  {
   "cell_type": "code",
   "execution_count": 3,
   "metadata": {
    "ExecuteTime": {
     "end_time": "2021-03-10T03:06:51.029162Z",
     "start_time": "2021-03-10T01:52:19.870278Z"
    }
   },
   "outputs": [],
   "source": [
    "for i in range(size):\n",
    "    #iteration\n",
    "    #-Step 1 (Proposal)\n",
    "    prop = np.random.normal(x, sig)\n",
    "    #-Step 2 (Acceptance Probabilty)\n",
    "    a = (sy.norm.pdf(prop,0,1)*sy.norm.pdf(x,prop,sig))/(sy.norm.pdf(x,0,1)*sy.norm.pdf(prop,x,sig))\n",
    "    a = np.amin([1,a])\n",
    "    #-Step 3 (Decision)\n",
    "    r = np.random.rand()\n",
    "    if r<a:\n",
    "        x = prop\n",
    "    #store value\n",
    "    X[i] = x"
   ]
  },
  {
   "cell_type": "code",
   "execution_count": 4,
   "metadata": {
    "ExecuteTime": {
     "end_time": "2021-03-10T03:06:54.730053Z",
     "start_time": "2021-03-10T03:06:51.079121Z"
    }
   },
   "outputs": [
    {
     "data": {
      "image/png": "[encoded data removed]",
      "text/plain": [
       "<Figure size 432x288 with 1 Axes>"
      ]
     },
     "metadata": {
      "needs_background": "light"
     },
     "output_type": "display_data"
    }
   ],
   "source": [
    "plt.hist(X[int(size/2):],density =True, bins = int(np.sqrt(size/2)))\n",
    "plt.show()"
   ]
  },
  {
   "cell_type": "code",
   "execution_count": null,
   "metadata": {},
   "outputs": [],
   "source": []
  },
  {
   "cell_type": "code",
   "execution_count": null,
   "metadata": {},
   "outputs": [],
   "source": []
  }
 ],
 "metadata": {
  "kernelspec": {
   "display_name": "Python 3",
   "language": "python",
   "name": "python3"
  },
  "language_info": {
   "codemirror_mode": {
    "name": "ipython",
    "version": 3
   },
   "file_extension": ".py",
   "mimetype": "text/x-python",
   "name": "python",
   "nbconvert_exporter": "python",
   "pygments_lexer": "ipython3",
   "version": "3.8.3"
  },
  "varInspector": {
   "cols": {
    "lenName": 16,
    "lenType": 16,
    "lenVar": 40
   },
   "kernels_config": {
    "python": {
     "delete_cmd_postfix": "",
     "delete_cmd_prefix": "del ",
     "library": "var_list.py",
     "varRefreshCmd": "print(var_dic_list())"
    },
    "r": {
     "delete_cmd_postfix": ") ",
     "delete_cmd_prefix": "rm(",
     "library": "var_list.r",
     "varRefreshCmd": "cat(var_dic_list()) "
    }
   },
   "types_to_exclude": [
    "module",
    "function",
    "builtin_function_or_method",
    "instance",
    "_Feature"
   ],
   "window_display": false
  }
 },
 "nbformat": 4,
 "nbformat_minor": 4
}
