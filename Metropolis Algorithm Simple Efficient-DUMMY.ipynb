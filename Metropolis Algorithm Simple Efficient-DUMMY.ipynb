{
 "cells": [
  {
   "cell_type": "code",
   "execution_count": 1,
   "metadata": {
    "ExecuteTime": {
     "end_time": "2021-03-15T03:52:50.934075Z",
     "start_time": "2021-03-15T03:52:49.681608Z"
    }
   },
   "outputs": [],
   "source": [
    "import numpy as np\n",
    "import scipy.stats as sy\n",
    "import matplotlib.pyplot as plt\n",
    "%matplotlib inline"
   ]
  },
  {
   "cell_type": "code",
   "execution_count": 2,
   "metadata": {
    "ExecuteTime": {
     "end_time": "2021-03-15T03:52:50.974419Z",
     "start_time": "2021-03-15T03:52:50.961405Z"
    }
   },
   "outputs": [],
   "source": [
    "#intialization\n",
    "size = 10**7\n",
    "X = np.empty(size)\n",
    "x = .5\n",
    "sig = .01"
   ]
  },
  {
   "cell_type": "code",
   "execution_count": 11,
   "metadata": {
    "ExecuteTime": {
     "end_time": "2021-03-15T04:05:01.033448Z",
     "start_time": "2021-03-15T03:57:08.222425Z"
    }
   },
   "outputs": [],
   "source": [
    "#intialization\n",
    "size = 10**6\n",
    "X = np.empty(size)\n",
    "x = 1\n",
    "sig = .1\n",
    "h=5.93\n",
    "\n",
    "def s(u):\n",
    "    return sy.norm.pdf(np.exp(u)-h)*sy.norm.pdf(u-2)\n",
    "\n",
    "for i in range(size):\n",
    "    #iteration\n",
    "    #-Step 1 (Proposal)\n",
    "    prop = np.random.normal(x,sig)\n",
    "    #-Step 2 (Acceptance Probabilty)\n",
    "    a = (s(prop))/(s(x))\n",
    "    a = np.amin([1,a])\n",
    "    #-Step 3 (Decision)\n",
    "    r = np.random.rand()\n",
    "    if r<a:\n",
    "        x = prop\n",
    "    #store value\n",
    "    X[i] = x"
   ]
  },
  {
   "cell_type": "code",
   "execution_count": 12,
   "metadata": {
    "ExecuteTime": {
     "end_time": "2021-03-15T04:05:02.702008Z",
     "start_time": "2021-03-15T04:05:01.119451Z"
    },
    "scrolled": true
   },
   "outputs": [
    {
     "data": {
      "image/png": "[encoded data removed]",
      "text/plain": [
       "<Figure size 432x288 with 1 Axes>"
      ]
     },
     "metadata": {
      "needs_background": "light"
     },
     "output_type": "display_data"
    }
   ],
   "source": [
    "plt.hist(X[int(size/2):],density =True, bins = int(np.sqrt(size/2)))\n",
    "plt.show()"
   ]
  },
  {
   "cell_type": "code",
   "execution_count": 8,
   "metadata": {
    "ExecuteTime": {
     "end_time": "2021-03-15T03:56:12.226437Z",
     "start_time": "2021-03-15T03:56:12.212464Z"
    }
   },
   "outputs": [
    {
     "data": {
      "text/plain": [
       "array([0.85586066, 1.00982748, 0.98319138, ..., 1.76347848, 1.81197312,\n",
       "       1.75747575])"
      ]
     },
     "execution_count": 8,
     "metadata": {},
     "output_type": "execute_result"
    }
   ],
   "source": [
    "X\n"
   ]
  },
  {
   "cell_type": "code",
   "execution_count": null,
   "metadata": {},
   "outputs": [],
   "source": []
  },
  {
   "cell_type": "code",
   "execution_count": null,
   "metadata": {},
   "outputs": [],
   "source": []
  }
 ],
 "metadata": {
  "kernelspec": {
   "display_name": "Python 3",
   "language": "python",
   "name": "python3"
  },
  "language_info": {
   "codemirror_mode": {
    "name": "ipython",
    "version": 3
   },
   "file_extension": ".py",
   "mimetype": "text/x-python",
   "name": "python",
   "nbconvert_exporter": "python",
   "pygments_lexer": "ipython3",
   "version": "3.8.3"
  },
  "varInspector": {
   "cols": {
    "lenName": 16,
    "lenType": 16,
    "lenVar": 40
   },
   "kernels_config": {
    "python": {
     "delete_cmd_postfix": "",
     "delete_cmd_prefix": "del ",
     "library": "var_list.py",
     "varRefreshCmd": "print(var_dic_list())"
    },
    "r": {
     "delete_cmd_postfix": ") ",
     "delete_cmd_prefix": "rm(",
     "library": "var_list.r",
     "varRefreshCmd": "cat(var_dic_list()) "
    }
   },
   "types_to_exclude": [
    "module",
    "function",
    "builtin_function_or_method",
    "instance",
    "_Feature"
   ],
   "window_display": false
  }
 },
 "nbformat": 4,
 "nbformat_minor": 4
}
