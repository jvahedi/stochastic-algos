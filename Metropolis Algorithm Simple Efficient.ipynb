{
 "cells": [
  {
   "cell_type": "code",
   "execution_count": 2,
   "metadata": {
    "ExecuteTime": {
     "end_time": "2021-03-15T00:13:57.417874Z",
     "start_time": "2021-03-15T00:13:55.682512Z"
    }
   },
   "outputs": [],
   "source": [
    "import numpy as np\n",
    "import scipy.stats as sy\n",
    "import matplotlib.pyplot as plt\n",
    "%matplotlib inline"
   ]
  },
  {
   "cell_type": "code",
   "execution_count": 11,
   "metadata": {
    "ExecuteTime": {
     "end_time": "2021-03-15T04:01:03.731804Z",
     "start_time": "2021-03-15T04:00:53.450389Z"
    }
   },
   "outputs": [],
   "source": [
    "#intialization\n",
    "size = 2*10**4\n",
    "X = np.empty(size)\n",
    "x = .5\n",
    "sig = .1\n",
    "h=5.93\n",
    "\n",
    "def s(u):\n",
    "    return sy.norm.pdf(np.exp(u)-h)*sy.norm.pdf(u-2)\n",
    "\n",
    "for i in range(size):\n",
    "    #iteration\n",
    "    #-Step 1 (Proposal)\n",
    "    prop = np.random.normal(x,sig)\n",
    "    #-Step 2 (Acceptance Probabilty)\n",
    "    a = (s(prop))/(s(x))\n",
    "    a = np.amin([1,a])\n",
    "    #-Step 3 (Decision)\n",
    "    r = np.random.rand()\n",
    "    if r<a:\n",
    "        x = prop\n",
    "    #store value\n",
    "    X[i] = x"
   ]
  },
  {
   "cell_type": "code",
   "execution_count": 12,
   "metadata": {
    "ExecuteTime": {
     "end_time": "2021-03-15T04:01:06.058940Z",
     "start_time": "2021-03-15T04:01:05.703817Z"
    },
    "scrolled": true
   },
   "outputs": [
    {
     "data": {
      "image/png": "[encoded data removed]",
      "text/plain": [
       "<Figure size 432x288 with 1 Axes>"
      ]
     },
     "metadata": {
      "needs_background": "light"
     },
     "output_type": "display_data"
    }
   ],
   "source": [
    "plt.hist(X[int(size/2):],density =True, bins = int(np.sqrt(size/3)))\n",
    "plt.show()"
   ]
  },
  {
   "cell_type": "code",
   "execution_count": 13,
   "metadata": {
    "ExecuteTime": {
     "end_time": "2021-03-15T04:02:06.455305Z",
     "start_time": "2021-03-15T04:02:06.442305Z"
    }
   },
   "outputs": [
    {
     "name": "stdout",
     "output_type": "stream",
     "text": [
      "1.7391919294724714 0.034623227870210146\n"
     ]
    }
   ],
   "source": [
    "W = X[int(size/2):]\n",
    "print(np.mean(W), np.var(W))"
   ]
  },
  {
   "cell_type": "code",
   "execution_count": null,
   "metadata": {
    "ExecuteTime": {
     "end_time": "2021-03-15T04:00:07.368201Z",
     "start_time": "2021-03-15T03:48:35.830Z"
    }
   },
   "outputs": [],
   "source": [
    "Z = np.linspace(0,1,1000)\n",
    "plt.plot(Z,s(Z))"
   ]
  },
  {
   "cell_type": "code",
   "execution_count": null,
   "metadata": {},
   "outputs": [],
   "source": []
  }
 ],
 "metadata": {
  "kernelspec": {
   "display_name": "Python 3",
   "language": "python",
   "name": "python3"
  },
  "language_info": {
   "codemirror_mode": {
    "name": "ipython",
    "version": 3
   },
   "file_extension": ".py",
   "mimetype": "text/x-python",
   "name": "python",
   "nbconvert_exporter": "python",
   "pygments_lexer": "ipython3",
   "version": "3.8.5"
  },
  "varInspector": {
   "cols": {
    "lenName": 16,
    "lenType": 16,
    "lenVar": 40
   },
   "kernels_config": {
    "python": {
     "delete_cmd_postfix": "",
     "delete_cmd_prefix": "del ",
     "library": "var_list.py",
     "varRefreshCmd": "print(var_dic_list())"
    },
    "r": {
     "delete_cmd_postfix": ") ",
     "delete_cmd_prefix": "rm(",
     "library": "var_list.r",
     "varRefreshCmd": "cat(var_dic_list()) "
    }
   },
   "types_to_exclude": [
    "module",
    "function",
    "builtin_function_or_method",
    "instance",
    "_Feature"
   ],
   "window_display": false
  }
 },
 "nbformat": 4,
 "nbformat_minor": 4
}
