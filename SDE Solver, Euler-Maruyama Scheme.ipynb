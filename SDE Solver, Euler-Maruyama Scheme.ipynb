{
 "cells": [
  {
   "cell_type": "code",
   "execution_count": 1,
   "metadata": {
    "ExecuteTime": {
     "end_time": "2021-04-09T03:17:23.792692Z",
     "start_time": "2021-04-09T03:17:22.021686Z"
    }
   },
   "outputs": [],
   "source": [
    "import numpy as np\n",
    "import scipy.stats as sy\n",
    "import matplotlib.pyplot as plt\n",
    "%matplotlib inline"
   ]
  },
  {
   "cell_type": "code",
   "execution_count": 207,
   "metadata": {
    "ExecuteTime": {
     "end_time": "2021-04-09T04:22:20.164329Z",
     "start_time": "2021-04-09T04:22:20.145558Z"
    }
   },
   "outputs": [],
   "source": [
    "#discretation size\n",
    "s = 101\n",
    "#initial condition\n",
    "x_0  = 1\n",
    "\n",
    "#time discretization\n",
    "t = np.linspace(0,5,s)\n",
    "del_t = t[1]-t[0]\n",
    "\n",
    "def iterate():\n",
    "    #trajectory array\n",
    "    X = np.zeros(s)\n",
    "    X[0]=x_0\n",
    "\n",
    "    #array of brownian steps\n",
    "    del_W = np.random.normal(0,np.sqrt(del_t),s)\n",
    "\n",
    "    #stepping iteration through trajectory\n",
    "\n",
    "    for j in range(1,s):\n",
    "        X[j] = X[j-1]*(1-del_t + 2*del_W[j])\n",
    "        #print([del_t, del_W[j],(-del_t + 2*del_W[j]), X[j-1]])\n",
    "        \n",
    "    return X\n"
   ]
  },
  {
   "cell_type": "code",
   "execution_count": 208,
   "metadata": {
    "ExecuteTime": {
     "end_time": "2021-04-09T04:22:20.399518Z",
     "start_time": "2021-04-09T04:22:20.359821Z"
    }
   },
   "outputs": [],
   "source": [
    "n = 100\n",
    "Y = np.zeros((n,s))\n",
    "for i in range(n):\n",
    "    Y[i] = iterate()\n",
    "\n",
    "P = np.average(Y, axis = 0)"
   ]
  },
  {
   "cell_type": "code",
   "execution_count": 209,
   "metadata": {
    "ExecuteTime": {
     "end_time": "2021-04-09T04:22:20.728799Z",
     "start_time": "2021-04-09T04:22:20.576792Z"
    }
   },
   "outputs": [
    {
     "data": {
      "image/png": "[encoded data removed]",
      "text/plain": [
       "<Figure size 432x288 with 1 Axes>"
      ]
     },
     "metadata": {
      "needs_background": "light"
     },
     "output_type": "display_data"
    }
   ],
   "source": [
    "plt.plot(t,P)\n",
    "plt.plot(t,np.exp(-t))\n",
    "plt.show()"
   ]
  },
  {
   "cell_type": "code",
   "execution_count": null,
   "metadata": {},
   "outputs": [],
   "source": []
  }
 ],
 "metadata": {
  "kernelspec": {
   "display_name": "Python 3",
   "language": "python",
   "name": "python3"
  },
  "language_info": {
   "codemirror_mode": {
    "name": "ipython",
    "version": 3
   },
   "file_extension": ".py",
   "mimetype": "text/x-python",
   "name": "python",
   "nbconvert_exporter": "python",
   "pygments_lexer": "ipython3",
   "version": "3.8.5"
  },
  "varInspector": {
   "cols": {
    "lenName": 16,
    "lenType": 16,
    "lenVar": 40
   },
   "kernels_config": {
    "python": {
     "delete_cmd_postfix": "",
     "delete_cmd_prefix": "del ",
     "library": "var_list.py",
     "varRefreshCmd": "print(var_dic_list())"
    },
    "r": {
     "delete_cmd_postfix": ") ",
     "delete_cmd_prefix": "rm(",
     "library": "var_list.r",
     "varRefreshCmd": "cat(var_dic_list()) "
    }
   },
   "types_to_exclude": [
    "module",
    "function",
    "builtin_function_or_method",
    "instance",
    "_Feature"
   ],
   "window_display": false
  }
 },
 "nbformat": 4,
 "nbformat_minor": 4
}
